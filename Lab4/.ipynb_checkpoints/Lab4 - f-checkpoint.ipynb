{
 "cells": [
  {
   "cell_type": "code",
   "execution_count": null,
   "id": "87581a1f",
   "metadata": {},
   "outputs": [],
   "source": [
    "#!pip install kinopoisk-dev\n",
    "#!pip install asyncio\n",
    "!pip uninstall kinopoisk-api-unofficial-client"
   ]
  },
  {
   "cell_type": "code",
   "execution_count": 2,
   "id": "b3c94b90",
   "metadata": {},
   "outputs": [
    {
     "ename": "ModuleNotFoundError",
     "evalue": "No module named 'kinopoisk_unofficial'",
     "output_type": "error",
     "traceback": [
      "\u001b[1;31m---------------------------------------------------------------------------\u001b[0m",
      "\u001b[1;31mModuleNotFoundError\u001b[0m                       Traceback (most recent call last)",
      "Input \u001b[1;32mIn [2]\u001b[0m, in \u001b[0;36m<cell line: 1>\u001b[1;34m()\u001b[0m\n\u001b[1;32m----> 1\u001b[0m \u001b[38;5;28;01mfrom\u001b[39;00m \u001b[38;5;21;01mkinopoisk_unofficial\u001b[39;00m\u001b[38;5;21;01m.\u001b[39;00m\u001b[38;5;21;01mkinopoisk_api_client\u001b[39;00m \u001b[38;5;28;01mimport\u001b[39;00m KinopoiskApiClient\n\u001b[0;32m      2\u001b[0m \u001b[38;5;28;01mfrom\u001b[39;00m \u001b[38;5;21;01mkinopoisk_unofficial\u001b[39;00m\u001b[38;5;21;01m.\u001b[39;00m\u001b[38;5;21;01mrequest\u001b[39;00m\u001b[38;5;21;01m.\u001b[39;00m\u001b[38;5;21;01mfilms\u001b[39;00m\u001b[38;5;21;01m.\u001b[39;00m\u001b[38;5;21;01mfilm_top_request\u001b[39;00m \u001b[38;5;28;01mimport\u001b[39;00m FilmTopRequest\n\u001b[0;32m      3\u001b[0m \u001b[38;5;28;01mfrom\u001b[39;00m \u001b[38;5;21;01mkinopoisk_unofficial\u001b[39;00m\u001b[38;5;21;01m.\u001b[39;00m\u001b[38;5;21;01mmodel\u001b[39;00m\u001b[38;5;21;01m.\u001b[39;00m\u001b[38;5;21;01mdictonary\u001b[39;00m\u001b[38;5;21;01m.\u001b[39;00m\u001b[38;5;21;01mtop_type\u001b[39;00m \u001b[38;5;28;01mimport\u001b[39;00m TopType\n",
      "\u001b[1;31mModuleNotFoundError\u001b[0m: No module named 'kinopoisk_unofficial'"
     ]
    }
   ],
   "source": [
    "from kinopoisk_unofficial.kinopoisk_api_client import KinopoiskApiClient\n",
    "from kinopoisk_unofficial.request.films.film_top_request import FilmTopRequest\n",
    "from kinopoisk_unofficial.model.dictonary.top_type import TopType\n",
    "\n",
    "api_client = KinopoiskApiClient(\"b072c48b-3b55-46c2-aa04-6d0dbd3a855b\")\n",
    "request = FilmTopRequest(TopType.TOP_250_BEST_FILMS)\n",
    "response = api_client.films.send_film_top_request(request)"
   ]
  },
  {
   "cell_type": "code",
   "execution_count": 6,
   "id": "70b88a00",
   "metadata": {},
   "outputs": [],
   "source": [
    "import asyncio\n",
    "\n",
    "from kinopoisk_dev import KinopoiskDev, ReviewField, ReviewParams\n",
    "from kinopoisk_dev.model import ReviewDocsResponseDto\n",
    "\n",
    "TOKEN = \"4593GZG-0GA4AB2-GNTD01T-MQD9ZVX\""
   ]
  },
  {
   "cell_type": "code",
   "execution_count": 7,
   "id": "11d02ba0",
   "metadata": {},
   "outputs": [
    {
     "ename": "ApiUnauthenticated",
     "evalue": "401",
     "output_type": "error",
     "traceback": [
      "\u001b[1;31m---------------------------------------------------------------------------\u001b[0m",
      "\u001b[1;31mApiUnauthenticated\u001b[0m                        Traceback (most recent call last)",
      "Input \u001b[1;32mIn [7]\u001b[0m, in \u001b[0;36m<cell line: 18>\u001b[1;34m()\u001b[0m\n\u001b[0;32m      8\u001b[0m     item \u001b[38;5;241m=\u001b[39m kp\u001b[38;5;241m.\u001b[39mreview(\n\u001b[0;32m      9\u001b[0m         params\u001b[38;5;241m=\u001b[39m[\n\u001b[0;32m     10\u001b[0m             ReviewParams(keys\u001b[38;5;241m=\u001b[39mReviewField\u001b[38;5;241m.\u001b[39mMOVIE_ID, value\u001b[38;5;241m=\u001b[39m\u001b[38;5;241m326\u001b[39m),\n\u001b[1;32m   (...)\u001b[0m\n\u001b[0;32m     13\u001b[0m         ]\n\u001b[0;32m     14\u001b[0m     )\n\u001b[0;32m     15\u001b[0m     \u001b[38;5;28;01mreturn\u001b[39;00m item\n\u001b[1;32m---> 18\u001b[0m data \u001b[38;5;241m=\u001b[39m \u001b[43mget_review\u001b[49m\u001b[43m(\u001b[49m\u001b[43m)\u001b[49m\n",
      "Input \u001b[1;32mIn [7]\u001b[0m, in \u001b[0;36mget_review\u001b[1;34m()\u001b[0m\n\u001b[0;32m      2\u001b[0m \u001b[38;5;124;03m\"\"\"\u001b[39;00m\n\u001b[0;32m      3\u001b[0m \u001b[38;5;124;03mСинхронный запрос.\u001b[39;00m\n\u001b[0;32m      4\u001b[0m \u001b[38;5;124;03mПоиск отзывов, с использованием параметров\u001b[39;00m\n\u001b[0;32m      5\u001b[0m \u001b[38;5;124;03m:return: Отзывы\u001b[39;00m\n\u001b[0;32m      6\u001b[0m \u001b[38;5;124;03m\"\"\"\u001b[39;00m\n\u001b[0;32m      7\u001b[0m kp \u001b[38;5;241m=\u001b[39m KinopoiskDev(token\u001b[38;5;241m=\u001b[39mTOKEN)\n\u001b[1;32m----> 8\u001b[0m item \u001b[38;5;241m=\u001b[39m \u001b[43mkp\u001b[49m\u001b[38;5;241;43m.\u001b[39;49m\u001b[43mreview\u001b[49m\u001b[43m(\u001b[49m\n\u001b[0;32m      9\u001b[0m \u001b[43m    \u001b[49m\u001b[43mparams\u001b[49m\u001b[38;5;241;43m=\u001b[39;49m\u001b[43m[\u001b[49m\n\u001b[0;32m     10\u001b[0m \u001b[43m        \u001b[49m\u001b[43mReviewParams\u001b[49m\u001b[43m(\u001b[49m\u001b[43mkeys\u001b[49m\u001b[38;5;241;43m=\u001b[39;49m\u001b[43mReviewField\u001b[49m\u001b[38;5;241;43m.\u001b[39;49m\u001b[43mMOVIE_ID\u001b[49m\u001b[43m,\u001b[49m\u001b[43m \u001b[49m\u001b[43mvalue\u001b[49m\u001b[38;5;241;43m=\u001b[39;49m\u001b[38;5;241;43m326\u001b[39;49m\u001b[43m)\u001b[49m\u001b[43m,\u001b[49m\n\u001b[0;32m     11\u001b[0m \u001b[43m        \u001b[49m\u001b[43mReviewParams\u001b[49m\u001b[43m(\u001b[49m\u001b[43mkeys\u001b[49m\u001b[38;5;241;43m=\u001b[39;49m\u001b[43mReviewField\u001b[49m\u001b[38;5;241;43m.\u001b[39;49m\u001b[43mPAGE\u001b[49m\u001b[43m,\u001b[49m\u001b[43m \u001b[49m\u001b[43mvalue\u001b[49m\u001b[38;5;241;43m=\u001b[39;49m\u001b[38;5;241;43m1\u001b[39;49m\u001b[43m)\u001b[49m\u001b[43m,\u001b[49m\n\u001b[0;32m     12\u001b[0m \u001b[43m        \u001b[49m\u001b[43mReviewParams\u001b[49m\u001b[43m(\u001b[49m\u001b[43mkeys\u001b[49m\u001b[38;5;241;43m=\u001b[39;49m\u001b[43mReviewField\u001b[49m\u001b[38;5;241;43m.\u001b[39;49m\u001b[43mLIMIT\u001b[49m\u001b[43m,\u001b[49m\u001b[43m \u001b[49m\u001b[43mvalue\u001b[49m\u001b[38;5;241;43m=\u001b[39;49m\u001b[38;5;241;43m2\u001b[39;49m\u001b[43m)\u001b[49m\u001b[43m,\u001b[49m\n\u001b[0;32m     13\u001b[0m \u001b[43m    \u001b[49m\u001b[43m]\u001b[49m\n\u001b[0;32m     14\u001b[0m \u001b[43m\u001b[49m\u001b[43m)\u001b[49m\n\u001b[0;32m     15\u001b[0m \u001b[38;5;28;01mreturn\u001b[39;00m item\n",
      "File \u001b[1;32m~\\AppData\\Roaming\\Python\\Python310\\site-packages\\kinopoisk_dev\\kinopoisk_dev.py:149\u001b[0m, in \u001b[0;36mKinopoiskDev.review\u001b[1;34m(self, params)\u001b[0m\n\u001b[0;32m    140\u001b[0m \u001b[38;5;28;01mdef\u001b[39;00m \u001b[38;5;21mreview\u001b[39m(\n\u001b[0;32m    141\u001b[0m     \u001b[38;5;28mself\u001b[39m, params: Optional[List[ReviewParams]] \u001b[38;5;241m=\u001b[39m \u001b[38;5;28;01mNone\u001b[39;00m\n\u001b[0;32m    142\u001b[0m ) \u001b[38;5;241m-\u001b[39m\u001b[38;5;241m>\u001b[39m ReviewDocsResponseDto:\n\u001b[0;32m    143\u001b[0m     \u001b[38;5;124;03m\"\"\"\u001b[39;00m\n\u001b[0;32m    144\u001b[0m \u001b[38;5;124;03m    Синхронный метод.\u001b[39;00m\n\u001b[0;32m    145\u001b[0m \u001b[38;5;124;03m    Поиск отзывов\u001b[39;00m\n\u001b[0;32m    146\u001b[0m \u001b[38;5;124;03m    :param params: Список параметров\u001b[39;00m\n\u001b[0;32m    147\u001b[0m \u001b[38;5;124;03m    :return: Список информации об отзывах\u001b[39;00m\n\u001b[0;32m    148\u001b[0m \u001b[38;5;124;03m    \"\"\"\u001b[39;00m\n\u001b[1;32m--> 149\u001b[0m     response \u001b[38;5;241m=\u001b[39m \u001b[38;5;28;43mself\u001b[39;49m\u001b[38;5;241;43m.\u001b[39;49m\u001b[43mrequest\u001b[49m\u001b[38;5;241;43m.\u001b[39;49m\u001b[43mget\u001b[49m\u001b[43m(\u001b[49m\u001b[38;5;124;43mf\u001b[39;49m\u001b[38;5;124;43m\"\u001b[39;49m\u001b[38;5;132;43;01m{\u001b[39;49;00m\u001b[43mREVIEW\u001b[49m\u001b[38;5;132;43;01m}\u001b[39;49;00m\u001b[38;5;124;43m?\u001b[39;49m\u001b[38;5;132;43;01m{\u001b[39;49;00m\u001b[43mget_params\u001b[49m\u001b[43m(\u001b[49m\u001b[43mparams\u001b[49m\u001b[43m)\u001b[49m\u001b[38;5;132;43;01m}\u001b[39;49;00m\u001b[38;5;124;43m\"\u001b[39;49m\u001b[43m)\u001b[49m\n\u001b[0;32m    150\u001b[0m     \u001b[38;5;28;01mreturn\u001b[39;00m ReviewDocsResponseDto(\u001b[38;5;241m*\u001b[39m\u001b[38;5;241m*\u001b[39mresponse)\n",
      "File \u001b[1;32m~\\AppData\\Roaming\\Python\\Python310\\site-packages\\kinopoisk_dev\\request.py:20\u001b[0m, in \u001b[0;36mRequest.get\u001b[1;34m(self, link, params)\u001b[0m\n\u001b[0;32m     18\u001b[0m     \u001b[38;5;28;01mreturn\u001b[39;00m response\u001b[38;5;241m.\u001b[39mjson()\n\u001b[0;32m     19\u001b[0m \u001b[38;5;28;01melif\u001b[39;00m response\u001b[38;5;241m.\u001b[39mstatus_code \u001b[38;5;241m==\u001b[39m \u001b[38;5;241m401\u001b[39m:\n\u001b[1;32m---> 20\u001b[0m     \u001b[38;5;28;01mraise\u001b[39;00m ApiUnauthenticated(response\u001b[38;5;241m.\u001b[39mstatus_code, response\u001b[38;5;241m.\u001b[39mtext)\n\u001b[0;32m     21\u001b[0m \u001b[38;5;28;01melif\u001b[39;00m response\u001b[38;5;241m.\u001b[39mstatus_code \u001b[38;5;241m==\u001b[39m \u001b[38;5;241m404\u001b[39m:\n\u001b[0;32m     22\u001b[0m     \u001b[38;5;28;01mraise\u001b[39;00m ApiNotFound(response\u001b[38;5;241m.\u001b[39mstatus_code, response\u001b[38;5;241m.\u001b[39mtext)\n",
      "\u001b[1;31mApiUnauthenticated\u001b[0m: 401"
     ]
    }
   ],
   "source": [
    "def get_review() -> ReviewDocsResponseDto:\n",
    "    \"\"\"\n",
    "    Синхронный запрос.\n",
    "    Поиск отзывов, с использованием параметров\n",
    "    :return: Отзывы\n",
    "    \"\"\"\n",
    "    kp = KinopoiskDev(token=TOKEN)\n",
    "    item = kp.review(\n",
    "        params=[\n",
    "            ReviewParams(keys=ReviewField.MOVIE_ID, value=326),\n",
    "            ReviewParams(keys=ReviewField.PAGE, value=1),\n",
    "            ReviewParams(keys=ReviewField.LIMIT, value=2),\n",
    "        ]\n",
    "    )\n",
    "    return item\n",
    "\n",
    "\n",
    "data = get_review()"
   ]
  },
  {
   "cell_type": "code",
   "execution_count": 5,
   "id": "9cfea825",
   "metadata": {},
   "outputs": [
    {
     "data": {
      "text/plain": [
       "ReviewDocsResponseDto(total=599, limit=2, page=1, pages=300, docs=[Review(id=3301672, movieId=326, title='НЕправосудие', type='Позитивный', review=\"Как часто люди сталкиваются с правосудием? Как много людей попадают за решетку, без доказательств их вины? Основной мотив фильма - надежда, которая даже в самых ужасных обстоятельствах способна дарить светлое будущее.\\r\\n\\r\\nФильм рассказывает историю Энди Дюфрейна - бухгалтера, нечестно осужденного за убийство своей жены, и его товарища по камере, Эллиса Реддинга, который оказывается в Шоушенке за убийство своей жены и ее возлюбленного.\\r\\n\\r\\nВ фильме затрагиваются такие важные темы как дружба и надежда. Фильм сконцентрирован вокруг глубокой дружбы, которая развивается между Энди и Эллисом. Эта дружба помогает им сохранить надежду и выжить в суровых условиях тюрьмы. Далее, нам демонстрируют, что не бывает безвыходных положений. Герои адаптируются к жизни в тюрьме (надеюсь, никому не придется) и находят способ выжить и даже улучшить свое положение внутри тюрьмы.\\r\\n\\r\\nЕсли говорить об актёрах: Тим Роббинс (Энди Дюфрейн) прекрасно передал сложность и интеллект своего персонажа, а его внутренняя борьба была убедительной. Морган Фримен (Эллис Реддинг) - его голос, это уже плюс актерам дубляжа, на протяжение всего фильма стал незабываемым, и он отлично передал мудрость и харизму своего персонажа. А Боб Гантон (Сэмюэл Нортон) отлично справился с ролью жестокого начальника тюрьмы.\\r\\n\\r\\nВердикт таков: 'Побег из Шоушенка' стал культовым фильмом, который навсегда останется в истории кино как шедевр о дружбе, надежде и непреодолимой силе человеческого духа. Фильм стал классикой и остается источником вдохновения для многих благодаря своей искренности и человеческим ценностям.\\r\\n\\r\\n10 из 10\", date='2023-09-24T16:47:42.000Z', author='Любыч', authorId=None, userRating=None), Review(id=3304191, movieId=326, title='Жажда свободы', type='Позитивный', review=\"'Побег из Шоушенка' – фильм о классической истории дружбы, надежде и борьбе за выживание в тяжелых условиях тюремной жизни.\\r\\n\\r\\nНевозможно не говорить о прекрасном сюжете этого фильма. Энди Дюфрейн - банковский бухгалтер, который был незаслуженно приговорен к пожизненному заключению в тюрьме Шоушенк. Внутри тюрьмы Энди завоевывает уважение среди других заключенных своими финансовыми навыками и помогает им в различных финансовых и правовых вопросах.\\r\\n\\r\\nСамый главный акцент делается на дружбе между Энди и Редом. Энди мечтает о побеге и тайно работает над своими планами, в то время как Ред становится его ближайшим другом и поддержкой.\\r\\n\\r\\nПосле просмотра фильма ты понимаешь, насколько бывают разные люди. Некоторые себя только и видят в тюрьме, а выпускаясь в цивилизованный мир – они просто вешаются, и не знают, как себя вести и действовать в тех или иных ситуациях. Взяв того еже Реда, он даже в туалет просился, будучи на свободе. \\r\\n\\r\\nЯ не боюсь этого слова, но фильм действительно лучший их лучших не только в те года, а в принципе, учитывая даже современное кино. Заслуженный рейтинг.\\r\\n\\r\\nЕсли говорить об актёрах, больше всего мне понравился Тим Роббинс, сыгравший роль Энди Дюфрейна, банкира, который был неправомерно приговорен к пожизненному заключению в тюрьме Шоушенк. Мне кажется, это одна из лучших его ролей. И конечно же, это Морган Фриман, сыгравший роль Эллиса 'Рэда' Реддинга, заключенного, который был лидером в тюрьме и другом Анди. \\r\\n\\r\\nФильм безупречный, словами сложно передать те эмоции, которые испытываешь при просмотре. \\r\\n\\r\\n10 из 10\", date='2023-10-02T12:35:24.000Z', author='Македонский101', authorId=None, userRating=None)])"
      ]
     },
     "execution_count": 5,
     "metadata": {},
     "output_type": "execute_result"
    }
   ],
   "source": [
    "data"
   ]
  },
  {
   "cell_type": "code",
   "execution_count": null,
   "id": "2e8ba7c5",
   "metadata": {},
   "outputs": [],
   "source": []
  }
 ],
 "metadata": {
  "kernelspec": {
   "display_name": "Python 3 (ipykernel)",
   "language": "python",
   "name": "python3"
  },
  "language_info": {
   "codemirror_mode": {
    "name": "ipython",
    "version": 3
   },
   "file_extension": ".py",
   "mimetype": "text/x-python",
   "name": "python",
   "nbconvert_exporter": "python",
   "pygments_lexer": "ipython3",
   "version": "3.10.2"
  }
 },
 "nbformat": 4,
 "nbformat_minor": 5
}
